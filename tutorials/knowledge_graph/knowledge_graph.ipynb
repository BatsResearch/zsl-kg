{
 "cells": [
  {
   "cell_type": "markdown",
   "id": "a8d5fdc2",
   "metadata": {},
   "source": [
    "# How to setup ConceptNetKG? \n",
    "In this tutorial, we will learn how to setup a `ConceptNetKG` graph."
   ]
  },
  {
   "cell_type": "markdown",
   "id": "5e7ca89f",
   "metadata": {},
   "source": [
    "## Initial knowledge graph setup\n",
    "`zsl-kg` is a zero-shot learning framework which operates on the knowledge graph.\n",
    "In tutorial, we consider the SNIPS-NLU dataset which contains 7 classes, namely: \n",
    "`{weather, music, restaurant, search, movie, book, playlist}` where `book` and `playlist` are the unseen classes. (Ofcourse, in zero-shot learning, we would not have access to the unseen classes from the dataset, but for the purpose of the tutorial we will allow it.) \n",
    "\n",
    "Now, we map the nodes to [ConceptNet graph](https://github.com/commonsense/conceptnet5/wiki/Downloads): `{/c/en/weather, /c/en/music, /c/en/restaurant, /c/en/search, /c/en/movie, /c/en/book, /c/en/playlist}` and query its 2-hop neighbourhood . We have included the nodes and the subgraph in this directory.\n"
   ]
  },
  {
   "cell_type": "markdown",
   "id": "be4e7371",
   "metadata": {},
   "source": [
    "## Nodes, edges, and relations"
   ]
  },
  {
   "cell_type": "code",
   "execution_count": 1,
   "id": "e6078815",
   "metadata": {},
   "outputs": [
    {
     "name": "stdout",
     "output_type": "stream",
     "text": [
      "            id                       uri\n",
      "0     21561344           /c/en/salsero/n\n",
      "1        32772               /c/en/march\n",
      "2     22577157         /c/en/blognovel/n\n",
      "3     22710467  /c/en/film_entertainment\n",
      "4       131101            /c/en/songbook\n",
      "...        ...                       ...\n",
      "6323  21495769            /c/en/diesis/n\n",
      "6324  21528540           /c/en/macca's/n\n",
      "6325    688096            /c/en/pneuma/n\n",
      "6326    589804             /c/en/ghana/n\n",
      "6327  22839285      /c/en/well_thumbed/a\n",
      "\n",
      "[6328 rows x 2 columns]\n"
     ]
    }
   ],
   "source": [
    "# read the nodes and edges \n",
    "import pandas as pd\n",
    "\n",
    "nodes = pd.read_csv('nodes.csv')\n",
    "edges = pd.read_csv('edges.csv')\n",
    "relations = pd.read_csv('relations.csv')\n",
    "print(nodes)"
   ]
  },
  {
   "cell_type": "code",
   "execution_count": 2,
   "id": "9321d895",
   "metadata": {},
   "outputs": [
    {
     "data": {
      "text/html": [
       "<div>\n",
       "<style scoped>\n",
       "    .dataframe tbody tr th:only-of-type {\n",
       "        vertical-align: middle;\n",
       "    }\n",
       "\n",
       "    .dataframe tbody tr th {\n",
       "        vertical-align: top;\n",
       "    }\n",
       "\n",
       "    .dataframe thead th {\n",
       "        text-align: right;\n",
       "    }\n",
       "</style>\n",
       "<table border=\"1\" class=\"dataframe\">\n",
       "  <thead>\n",
       "    <tr style=\"text-align: right;\">\n",
       "      <th></th>\n",
       "      <th>start_id</th>\n",
       "      <th>relation_id</th>\n",
       "      <th>end_id</th>\n",
       "    </tr>\n",
       "  </thead>\n",
       "  <tbody>\n",
       "    <tr>\n",
       "      <th>0</th>\n",
       "      <td>1204</td>\n",
       "      <td>0</td>\n",
       "      <td>1205</td>\n",
       "    </tr>\n",
       "    <tr>\n",
       "      <th>1</th>\n",
       "      <td>1204</td>\n",
       "      <td>0</td>\n",
       "      <td>1206</td>\n",
       "    </tr>\n",
       "    <tr>\n",
       "      <th>2</th>\n",
       "      <td>1204</td>\n",
       "      <td>1</td>\n",
       "      <td>3916</td>\n",
       "    </tr>\n",
       "    <tr>\n",
       "      <th>3</th>\n",
       "      <td>1204</td>\n",
       "      <td>1</td>\n",
       "      <td>3673</td>\n",
       "    </tr>\n",
       "    <tr>\n",
       "      <th>4</th>\n",
       "      <td>1204</td>\n",
       "      <td>1</td>\n",
       "      <td>714</td>\n",
       "    </tr>\n",
       "  </tbody>\n",
       "</table>\n",
       "</div>"
      ],
      "text/plain": [
       "   start_id  relation_id  end_id\n",
       "0      1204            0    1205\n",
       "1      1204            0    1206\n",
       "2      1204            1    3916\n",
       "3      1204            1    3673\n",
       "4      1204            1     714"
      ]
     },
     "execution_count": 2,
     "metadata": {},
     "output_type": "execute_result"
    }
   ],
   "source": [
    "edges[:5]"
   ]
  },
  {
   "cell_type": "code",
   "execution_count": 3,
   "id": "1b900393",
   "metadata": {},
   "outputs": [
    {
     "data": {
      "text/html": [
       "<div>\n",
       "<style scoped>\n",
       "    .dataframe tbody tr th:only-of-type {\n",
       "        vertical-align: middle;\n",
       "    }\n",
       "\n",
       "    .dataframe tbody tr th {\n",
       "        vertical-align: top;\n",
       "    }\n",
       "\n",
       "    .dataframe thead th {\n",
       "        text-align: right;\n",
       "    }\n",
       "</style>\n",
       "<table border=\"1\" class=\"dataframe\">\n",
       "  <thead>\n",
       "    <tr style=\"text-align: right;\">\n",
       "      <th></th>\n",
       "      <th>id</th>\n",
       "      <th>uri</th>\n",
       "      <th>directed</th>\n",
       "    </tr>\n",
       "  </thead>\n",
       "  <tbody>\n",
       "    <tr>\n",
       "      <th>0</th>\n",
       "      <td>0</td>\n",
       "      <td>/r/Antonym</td>\n",
       "      <td>0</td>\n",
       "    </tr>\n",
       "    <tr>\n",
       "      <th>1</th>\n",
       "      <td>1</td>\n",
       "      <td>/r/AtLocation</td>\n",
       "      <td>1</td>\n",
       "    </tr>\n",
       "    <tr>\n",
       "      <th>2</th>\n",
       "      <td>2</td>\n",
       "      <td>/r/CapableOf</td>\n",
       "      <td>1</td>\n",
       "    </tr>\n",
       "    <tr>\n",
       "      <th>3</th>\n",
       "      <td>3</td>\n",
       "      <td>/r/Causes</td>\n",
       "      <td>1</td>\n",
       "    </tr>\n",
       "    <tr>\n",
       "      <th>4</th>\n",
       "      <td>4</td>\n",
       "      <td>/r/CausesDesire</td>\n",
       "      <td>1</td>\n",
       "    </tr>\n",
       "  </tbody>\n",
       "</table>\n",
       "</div>"
      ],
      "text/plain": [
       "   id              uri  directed\n",
       "0   0       /r/Antonym         0\n",
       "1   1    /r/AtLocation         1\n",
       "2   2     /r/CapableOf         1\n",
       "3   3        /r/Causes         1\n",
       "4   4  /r/CausesDesire         1"
      ]
     },
     "execution_count": 3,
     "metadata": {},
     "output_type": "execute_result"
    }
   ],
   "source": [
    "relations[:5]"
   ]
  },
  {
   "cell_type": "markdown",
   "id": "eea1743b",
   "metadata": {},
   "source": [
    "## Features\n",
    "In zero-shot learning, each node in the knowledge graph is mapped to a pretrained embedding. Here, we use the GloVe 840B embeddings from [https://nlp.stanford.edu/data/glove.840B.300d.zip](https://nlp.stanford.edu/data/glove.840B.300d.zip). \n",
    "\n",
    "In ConceptNet, the node names have multiple words with a trailing `/c/en/` prefix followed by the concept name accompanied by varying postfixes. For simplicity, we strip the affixes from the node names and compute average of the individual words in the concept to get the embedding. "
   ]
  },
  {
   "cell_type": "code",
   "execution_count": 4,
   "id": "08c6c51b",
   "metadata": {},
   "outputs": [],
   "source": [
    "import re\n",
    "import numpy as np\n",
    "import torch\n",
    "import torch.nn.functional as F\n",
    "\n",
    "\n",
    "def load_embeddings(file_path):\n",
    "    \"\"\"file to load glove\"\"\"\n",
    "    embeddings = {}\n",
    "    with open(file_path) as fp:\n",
    "        for line in fp:\n",
    "            fields = line.rstrip().split(\" \")\n",
    "            vector = np.asarray(fields[1:], dtype=\"float32\")\n",
    "            embeddings[fields[0]] = vector\n",
    "\n",
    "    return embeddings\n",
    "\n",
    "\n",
    "def get_individual_words(concept):\n",
    "    \"\"\"extracts the individual words from a concept\"\"\"\n",
    "    clean_concepts = re.sub(r\"\\/c\\/[a-z]{2}\\/|\\/.*\", \"\", concept)\n",
    "    return clean_concepts.strip().split(\"_\")"
   ]
  },
  {
   "cell_type": "code",
   "execution_count": 5,
   "id": "41835fad",
   "metadata": {},
   "outputs": [],
   "source": [
    "# extract individual words from concepts\n",
    "words = set()\n",
    "all_concepts = []\n",
    "for index, node in nodes.iterrows():\n",
    "    concept_words = get_individual_words(node[\"uri\"])\n",
    "    all_concepts.append(concept_words)\n",
    "    for w in concept_words:\n",
    "        words.add(w)\n",
    "\n",
    "word_to_idx = dict([(word, idx + 1) for idx, word in enumerate(words)])\n",
    "word_to_idx[\"<PAD>\"] = 0\n",
    "idx_to_word = dict([(idx, word) for word, idx in word_to_idx.items()])"
   ]
  },
  {
   "cell_type": "code",
   "execution_count": 6,
   "id": "b3dfd151",
   "metadata": {},
   "outputs": [],
   "source": [
    "# load glove 840 (!! this may take some time)\n",
    "glove = load_embeddings('glove.840B.300d.txt')\n",
    "\n",
    "# get the word embedding\n",
    "embedding_matrix = torch.zeros(len(word_to_idx), 300)\n",
    "for idx, word in idx_to_word.items():\n",
    "    if word in glove:\n",
    "        embedding_matrix[idx] = torch.Tensor(glove[word])\n"
   ]
  },
  {
   "cell_type": "code",
   "execution_count": 7,
   "id": "751280c6",
   "metadata": {},
   "outputs": [
    {
     "data": {
      "text/plain": [
       "torch.Size([6328, 300])"
      ]
     },
     "execution_count": 7,
     "metadata": {},
     "output_type": "execute_result"
    }
   ],
   "source": [
    "# padding concepts\n",
    "max_length = max([len(concept_words) for concept_words in all_concepts])\n",
    "padded_concepts = []\n",
    "for concept_words in all_concepts:\n",
    "    concept_idx = [word_to_idx[word] for word in concept_words]\n",
    "    concept_idx += [0] * (max_length - len(concept_idx))\n",
    "    padded_concepts.append(concept_idx)\n",
    "\n",
    "# add the word embeddings of indivual words and normalize\n",
    "concept_embs = torch.zeros((0, 300))\n",
    "padded_concepts = torch.tensor(padded_concepts)\n",
    "concept_words = embedding_matrix[padded_concepts]\n",
    "concept_embs = torch.sum(concept_words, dim=1)\n",
    "concept_embs = F.normalize(concept_embs)\n",
    "concept_embs.size()"
   ]
  },
  {
   "cell_type": "markdown",
   "id": "647d7dcc",
   "metadata": {},
   "source": [
    "## ConceptNetKG\n",
    "Now that we have the nodes, edges, and features, we create the ConceptNetKG object. "
   ]
  },
  {
   "cell_type": "code",
   "execution_count": 8,
   "id": "e03f0f5c",
   "metadata": {},
   "outputs": [],
   "source": [
    "# Params\n",
    "# To automatically convert the knowledge graph to an undirected graph, \n",
    "# set \"bidirectional\" to True. If you ommit this option, ensure that \n",
    "# the edges in the graph are undirected.\n",
    "from allennlp.common.params import Params\n",
    "from zsl_kg.knowledge_graph.conceptnet import ConceptNetKG\n",
    "params = Params({\"bidirectional\": True})\n",
    "\n",
    "kg = ConceptNetKG(nodes['uri'].tolist(), \n",
    "                  concept_embs, \n",
    "                  edges.values.tolist(), \n",
    "                  relations['uri'].tolist(), \n",
    "                  params)"
   ]
  },
  {
   "cell_type": "markdown",
   "id": "16e85477",
   "metadata": {},
   "source": [
    "### Move KG to Device\n",
    "We can either use `.to(device)` or `.cuda()` to move the knowledge graph to cuda.\n"
   ]
  },
  {
   "cell_type": "code",
   "execution_count": 17,
   "id": "810fd27b",
   "metadata": {},
   "outputs": [
    {
     "data": {
      "text/plain": [
       "True"
      ]
     },
     "execution_count": 17,
     "metadata": {},
     "output_type": "execute_result"
    }
   ],
   "source": [
    "device = \"cuda\" if torch.cuda.is_available() else \"cpu\"\n",
    "kg.to(device)"
   ]
  },
  {
   "cell_type": "markdown",
   "id": "fbe089f2",
   "metadata": {},
   "source": [
    "### Random-walk"
   ]
  },
  {
   "cell_type": "markdown",
   "id": "fbfba65a",
   "metadata": {},
   "source": [
    "The `ConceptNetKG` object stores the knowledge graph information. However, to make the object useful in the `zsl-kg` framework, we simulate a random-walk over the knowledge graph. The random-walk assigns hitting probability based on the connectivity in the knowledge, i.e., node neighbours with higher node degree would have higher hitting probability.\n",
    "\n",
    "The random-walk assumes three parameters:\n",
    "1. k = 20: length of the random-walk\n",
    "2. n = 10: number of restarts\n",
    "3. seed = 0 seed value for determinism\n",
    "\n",
    "These paramters can be changed by providing them in `Params()` object during initialization. For example:\n",
    "```python\n",
    "new_params = {\"bidirectional\": True, \"rw.k\": 10, \"rw.n\": 15, \"rw.seed\": 42}\n",
    "kg = ConceptNetKG(nodes['uri'].tolist(), \n",
    "                  concept_embs, \n",
    "                  edges.values.tolist(), \n",
    "                  relations['uri'].tolist(), \n",
    "                  new_params)\n",
    "```\n",
    "\n",
    "To simulate a random-walk over the knowledge graph, use `run_random_walk()`. "
   ]
  },
  {
   "cell_type": "code",
   "execution_count": 9,
   "id": "65937b68",
   "metadata": {},
   "outputs": [
    {
     "name": "stderr",
     "output_type": "stream",
     "text": [
      "100%|███████████████████████████████████████████████| 6328/6328 [00:29<00:00, 215.07it/s]\n"
     ]
    }
   ],
   "source": [
    "kg.run_random_walk()"
   ]
  },
  {
   "cell_type": "markdown",
   "id": "4bb4b03d",
   "metadata": {},
   "source": [
    "### Node IDs\n",
    "In `zsl-kg`, we learn to map nodes in knowledge graph to class representations. To query the learned class representaiton, we get the node ids of the classes with `get_node_ids()` function."
   ]
  },
  {
   "cell_type": "code",
   "execution_count": 11,
   "id": "60446735",
   "metadata": {},
   "outputs": [
    {
     "data": {
      "text/plain": [
       "[1937, 177, 1204, 1857, 153, 3732, 6123]"
      ]
     },
     "execution_count": 11,
     "metadata": {},
     "output_type": "execute_result"
    }
   ],
   "source": [
    "node_names = [\"/c/en/weather\", \n",
    "              \"/c/en/music\", \n",
    "              \"/c/en/restaurant\", \n",
    "              \"/c/en/search\", \n",
    "              \"/c/en/movie\", \n",
    "              \"/c/en/book\",\n",
    "              \"/c/en/playlist\"]\n",
    "node_ids = kg.get_node_ids(node_names)\n",
    "node_ids"
   ]
  },
  {
   "cell_type": "markdown",
   "id": "5694ce9a",
   "metadata": {},
   "source": [
    "### Save KG\n",
    "To save the knowledge graph data along the the random-walk information, use `save_to_disk()` method."
   ]
  },
  {
   "cell_type": "code",
   "execution_count": 13,
   "id": "0376ddc9",
   "metadata": {},
   "outputs": [
    {
     "data": {
      "text/plain": [
       "'kg_tutorial_graph'"
      ]
     },
     "execution_count": 13,
     "metadata": {},
     "output_type": "execute_result"
    }
   ],
   "source": [
    "kg.save_to_disk('kg_tutorial_graph')"
   ]
  },
  {
   "cell_type": "markdown",
   "id": "cd7f7726",
   "metadata": {},
   "source": [
    "## Load saved KG\n",
    "To load the saved `ConceptNetKG` from disk, use `ConceptNetKG.load_from_disk(dir_path)`. "
   ]
  },
  {
   "cell_type": "code",
   "execution_count": 15,
   "id": "9909ae25",
   "metadata": {},
   "outputs": [],
   "source": [
    "saved_kg = ConceptNetKG.load_from_disk('kg_tutorial_graph')"
   ]
  },
  {
   "cell_type": "markdown",
   "id": "6cd3d2b3",
   "metadata": {},
   "source": [
    "We have succesfully completed tutorial on how to setup `ConceptNetKG`. Move to the next tutorials on class encoders to learn more about graph neural networks in `zsl-kg`. "
   ]
  }
 ],
 "metadata": {
  "kernelspec": {
   "display_name": "Python 3 (ipykernel)",
   "language": "python",
   "name": "python3"
  },
  "language_info": {
   "codemirror_mode": {
    "name": "ipython",
    "version": 3
   },
   "file_extension": ".py",
   "mimetype": "text/x-python",
   "name": "python",
   "nbconvert_exporter": "python",
   "pygments_lexer": "ipython3",
   "version": "3.7.11"
  }
 },
 "nbformat": 4,
 "nbformat_minor": 5
}
