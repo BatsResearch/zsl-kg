{
 "cells": [
  {
   "cell_type": "markdown",
   "id": "a8d5fdc2",
   "metadata": {},
   "source": [
    "# How to setup ConceptNetKG? \n",
    "In this tutorial, we will learn how to setup a `ConceptNetKG` graph."
   ]
  },
  {
   "cell_type": "markdown",
   "id": "5e7ca89f",
   "metadata": {},
   "source": [
    "## Initial knowledge graph setup\n",
    "`zsl-kg` is a zero-shot learning framework which operates on the knowledge graph.\n",
    "The first step in the process of learning zero-shot classifiers is to identify the classes and map them to\n",
    "the nodes in the knowledge graph of interest. \n",
    "We will consider the example of SNIPS-NLU dataset which contains 7 classes, namely: \n",
    "`{weather, music, restaurant, search, movie, book, playlist}` where `book` and `playlist` are the unseen classes. (Ofcourse, in the zero-shot learning setting, we would not have access to the unseen classes from the dataset, but for the purpose of the tutorial we will cheat.) \n",
    "\n",
    "Now, we map the nodes to ConceptNet graph: `{/c/en/weather, /c/en/music, /c/en/restaurant, /c/en/search, /c/en/movie, /c/en/book, /c/en/playlist}` and query its 2-hop neighbourhood. We have included the nodes and the edges from the 2-hop neighbourhood in this directory.\n"
   ]
  },
  {
   "cell_type": "markdown",
   "id": "be4e7371",
   "metadata": {},
   "source": [
    "## Nodes and edges"
   ]
  },
  {
   "cell_type": "code",
   "execution_count": 1,
   "id": "e6078815",
   "metadata": {},
   "outputs": [
    {
     "name": "stdout",
     "output_type": "stream",
     "text": [
      "            id                       uri\n",
      "0     21561344           /c/en/salsero/n\n",
      "1        32772               /c/en/march\n",
      "2     22577157         /c/en/blognovel/n\n",
      "3     22710467  /c/en/film_entertainment\n",
      "4       131101            /c/en/songbook\n",
      "...        ...                       ...\n",
      "6323  21495769            /c/en/diesis/n\n",
      "6324  21528540           /c/en/macca's/n\n",
      "6325    688096            /c/en/pneuma/n\n",
      "6326    589804             /c/en/ghana/n\n",
      "6327  22839285      /c/en/well_thumbed/a\n",
      "\n",
      "[6328 rows x 2 columns]\n"
     ]
    }
   ],
   "source": [
    "# read the nodes and edges \n",
    "import pandas as pd\n",
    "\n",
    "nodes = pd.read_csv('nodes.csv')\n",
    "edges = pd.read_csv('edges.csv')\n",
    "print(nodes)"
   ]
  },
  {
   "cell_type": "code",
   "execution_count": 24,
   "id": "9321d895",
   "metadata": {},
   "outputs": [
    {
     "data": {
      "text/html": [
       "<div>\n",
       "<style scoped>\n",
       "    .dataframe tbody tr th:only-of-type {\n",
       "        vertical-align: middle;\n",
       "    }\n",
       "\n",
       "    .dataframe tbody tr th {\n",
       "        vertical-align: top;\n",
       "    }\n",
       "\n",
       "    .dataframe thead th {\n",
       "        text-align: right;\n",
       "    }\n",
       "</style>\n",
       "<table border=\"1\" class=\"dataframe\">\n",
       "  <thead>\n",
       "    <tr style=\"text-align: right;\">\n",
       "      <th></th>\n",
       "      <th>start_id</th>\n",
       "      <th>relation_id</th>\n",
       "      <th>end_id</th>\n",
       "    </tr>\n",
       "  </thead>\n",
       "  <tbody>\n",
       "    <tr>\n",
       "      <th>0</th>\n",
       "      <td>1204</td>\n",
       "      <td>0</td>\n",
       "      <td>1205</td>\n",
       "    </tr>\n",
       "    <tr>\n",
       "      <th>1</th>\n",
       "      <td>1204</td>\n",
       "      <td>0</td>\n",
       "      <td>1206</td>\n",
       "    </tr>\n",
       "    <tr>\n",
       "      <th>2</th>\n",
       "      <td>1204</td>\n",
       "      <td>1</td>\n",
       "      <td>3916</td>\n",
       "    </tr>\n",
       "    <tr>\n",
       "      <th>3</th>\n",
       "      <td>1204</td>\n",
       "      <td>1</td>\n",
       "      <td>3673</td>\n",
       "    </tr>\n",
       "    <tr>\n",
       "      <th>4</th>\n",
       "      <td>1204</td>\n",
       "      <td>1</td>\n",
       "      <td>714</td>\n",
       "    </tr>\n",
       "    <tr>\n",
       "      <th>...</th>\n",
       "      <td>...</td>\n",
       "      <td>...</td>\n",
       "      <td>...</td>\n",
       "    </tr>\n",
       "    <tr>\n",
       "      <th>6813</th>\n",
       "      <td>4957</td>\n",
       "      <td>35</td>\n",
       "      <td>3732</td>\n",
       "    </tr>\n",
       "    <tr>\n",
       "      <th>6814</th>\n",
       "      <td>5490</td>\n",
       "      <td>35</td>\n",
       "      <td>3732</td>\n",
       "    </tr>\n",
       "    <tr>\n",
       "      <th>6815</th>\n",
       "      <td>3604</td>\n",
       "      <td>38</td>\n",
       "      <td>3732</td>\n",
       "    </tr>\n",
       "    <tr>\n",
       "      <th>6816</th>\n",
       "      <td>3351</td>\n",
       "      <td>38</td>\n",
       "      <td>3732</td>\n",
       "    </tr>\n",
       "    <tr>\n",
       "      <th>6817</th>\n",
       "      <td>94</td>\n",
       "      <td>39</td>\n",
       "      <td>3732</td>\n",
       "    </tr>\n",
       "  </tbody>\n",
       "</table>\n",
       "<p>6818 rows × 3 columns</p>\n",
       "</div>"
      ],
      "text/plain": [
       "      start_id  relation_id  end_id\n",
       "0         1204            0    1205\n",
       "1         1204            0    1206\n",
       "2         1204            1    3916\n",
       "3         1204            1    3673\n",
       "4         1204            1     714\n",
       "...        ...          ...     ...\n",
       "6813      4957           35    3732\n",
       "6814      5490           35    3732\n",
       "6815      3604           38    3732\n",
       "6816      3351           38    3732\n",
       "6817        94           39    3732\n",
       "\n",
       "[6818 rows x 3 columns]"
      ]
     },
     "execution_count": 24,
     "metadata": {},
     "output_type": "execute_result"
    }
   ],
   "source": [
    "edges"
   ]
  },
  {
   "cell_type": "markdown",
   "id": "eea1743b",
   "metadata": {},
   "source": [
    "## Features\n",
    "Unlike traditional node classification problems, in zero-shot learning, each node in the knowledge graph is mapped to a pretrained embedding. Here, we will use the GloVe 840B embeddings from [https://nlp.stanford.edu/data/glove.840B.300d.zip](https://nlp.stanford.edu/data/glove.840B.300d.zip) \n",
    "\n",
    "In ConceptNet, the node names will have multiple words with a trailing `/c/en/` prefix followed by the concept name accompanied by varying postfixes. For simplicity, we will strip the affixes from the node names and compute average the individual word in the concept to get the embedding. "
   ]
  },
  {
   "cell_type": "code",
   "execution_count": 19,
   "id": "08c6c51b",
   "metadata": {},
   "outputs": [],
   "source": [
    "import re\n",
    "import numpy as np\n",
    "import torch\n",
    "import torch.nn.functional as F\n",
    "\n",
    "\n",
    "def load_embeddings(file_path):\n",
    "    \"\"\"file to load glove\"\"\"\n",
    "    embeddings = {}\n",
    "    with open(file_path) as fp:\n",
    "        for line in fp:\n",
    "            fields = line.rstrip().split(\" \")\n",
    "            vector = np.asarray(fields[1:], dtype=\"float32\")\n",
    "            embeddings[fields[0]] = vector\n",
    "\n",
    "    return embeddings\n",
    "\n",
    "\n",
    "def get_individual_words(concept):\n",
    "    \"\"\"extracts the individual words from a concept\"\"\"\n",
    "    clean_concepts = re.sub(r\"\\/c\\/[a-z]{2}\\/|\\/.*\", \"\", concept)\n",
    "    return clean_concepts.strip().split(\"_\")"
   ]
  },
  {
   "cell_type": "code",
   "execution_count": 16,
   "id": "41835fad",
   "metadata": {},
   "outputs": [],
   "source": [
    "# extract individual words from concepts\n",
    "words = set()\n",
    "all_concepts = []\n",
    "for index, node in nodes.iterrows():\n",
    "    concept_words = get_individual_words(node[\"uri\"])\n",
    "    all_concepts.append(concept_words)\n",
    "    for w in concept_words:\n",
    "        words.add(w)\n",
    "\n",
    "word_to_idx = dict([(word, idx + 1) for idx, word in enumerate(words)])\n",
    "word_to_idx[\"<PAD>\"] = 0\n",
    "idx_to_word = dict([(idx, word) for word, idx in word_to_idx.items()])"
   ]
  },
  {
   "cell_type": "code",
   "execution_count": 17,
   "id": "b3dfd151",
   "metadata": {},
   "outputs": [],
   "source": [
    "# load glove 840 (!! this may take some time)\n",
    "glove = load_embeddings('glove.840B.300d.txt')\n",
    "\n",
    "# get the word embedding\n",
    "embedding_matrix = torch.zeros(len(word_to_idx), 300)\n",
    "for idx, word in idx_to_word.items():\n",
    "    if word in glove:\n",
    "        embedding_matrix[idx] = torch.Tensor(glove[word])\n"
   ]
  },
  {
   "cell_type": "code",
   "execution_count": 23,
   "id": "751280c6",
   "metadata": {},
   "outputs": [
    {
     "data": {
      "text/plain": [
       "torch.Size([6328, 300])"
      ]
     },
     "execution_count": 23,
     "metadata": {},
     "output_type": "execute_result"
    }
   ],
   "source": [
    "# padding concepts\n",
    "max_length = max([len(concept_words) for concept_words in all_concepts])\n",
    "padded_concepts = []\n",
    "for concept_words in all_concepts:\n",
    "    concept_idx = [word_to_idx[word] for word in concept_words]\n",
    "    concept_idx += [0] * (max_length - len(concept_idx))\n",
    "    padded_concepts.append(concept_idx)\n",
    "\n",
    "# add the word embeddings of indivual words and normalize\n",
    "concept_embs = torch.zeros((0, 300))\n",
    "padded_concepts = torch.tensor(padded_concepts)\n",
    "concept_words = embedding_matrix[padded_concepts]\n",
    "concept_embs = torch.sum(concept_words, dim=1)\n",
    "concept_embs = F.normalize(concept_embs)\n",
    "concept_embs.size()"
   ]
  },
  {
   "cell_type": "markdown",
   "id": "647d7dcc",
   "metadata": {},
   "source": [
    "## ConceptNetKG\n",
    "Now that we have the nodes, edges, and features, we can create the ConceptNetKG object. "
   ]
  },
  {
   "cell_type": "code",
   "execution_count": null,
   "id": "e03f0f5c",
   "metadata": {},
   "outputs": [],
   "source": [
    "# Params\n",
    "# To automatically convert the knowledge graph to an undirected graph, \n",
    "# set \"bidirectional\" to True. If you ommit this option, ensure that \n",
    "# the edges in the graph are undirected.\n",
    "from allennlp.common.params import Params\n",
    "params = Params({\"bidirectional\": True})\n"
   ]
  },
  {
   "cell_type": "code",
   "execution_count": null,
   "id": "c9bb1e6d",
   "metadata": {},
   "outputs": [],
   "source": []
  }
 ],
 "metadata": {
  "kernelspec": {
   "display_name": "Python 3 (ipykernel)",
   "language": "python",
   "name": "python3"
  },
  "language_info": {
   "codemirror_mode": {
    "name": "ipython",
    "version": 3
   },
   "file_extension": ".py",
   "mimetype": "text/x-python",
   "name": "python",
   "nbconvert_exporter": "python",
   "pygments_lexer": "ipython3",
   "version": "3.7.11"
  }
 },
 "nbformat": 4,
 "nbformat_minor": 5
}
